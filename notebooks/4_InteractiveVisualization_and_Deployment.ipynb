{
  "cells": [
    {
      "cell_type": "markdown",
      "metadata": {
        "id": "hZ8cofevStTL"
      },
      "source": [
        "# Knowledge Based Recommendation of Ingredients\n",
        "## Notebook 4: Build and Visualize Interactive Knowledge Graph\n",
        "### Project Breakdown\n",
        "    1  Exploratory Data Analysis and Preprocessing\n",
        "    2: Build Word Embeddings using Word2Vec, FastText\n",
        "    3: Recommend Recipes based on ingredients\n",
        "    4: Build and Visualize Interactive Knowledge Graph\n",
        "\n"
      ]
    },
    {
      "cell_type": "code",
      "execution_count": 1,
      "metadata": {
        "id": "76GAqkqTStTP"
      },
      "outputs": [],
      "source": [
        "from sklearn.metrics.pairwise import cosine_similarity\n",
        "import plotly.graph_objects as go\n",
        "from plotly.offline import plot\n",
        "import networkx as nx\n",
        "import numpy as np"
      ]
    },
    {
      "cell_type": "code",
      "execution_count": 2,
      "metadata": {
        "id": "It8QzQWGStTS"
      },
      "outputs": [],
      "source": [
        "# load items, and their vector embeddings\n",
        "items = np.loadtxt('data/items.txt', dtype=str)\n",
        "vectors = np.load('data/w2v_vectors.npy')"
      ]
    },
    {
      "cell_type": "code",
      "execution_count": 4,
      "metadata": {
        "id": "mTrvo5TSStTT"
      },
      "outputs": [],
      "source": [
        "# calculate cosine similarity amongst vectors\n",
        "sims = cosine_similarity(vectors, vectors)\n",
        "\n",
        "for i in range(len(vectors)):\n",
        "    for j in range(len(vectors)):\n",
        "        if i <= j :\n",
        "            sims[i, j] = False"
      ]
    },
    {
      "cell_type": "code",
      "execution_count": 7,
      "metadata": {
        "id": "DKd1P6xxStTT"
      },
      "outputs": [],
      "source": [
        "# we can set a thresold of similarity, and \n",
        "# consider all similarities that are above the threshold to be connected in graph\n",
        "\n",
        "idxs = np.argwhere(sims > 0.55)"
      ]
    },
    {
      "cell_type": "code",
      "execution_count": 8,
      "metadata": {
        "id": "a1TwbTm2StTU"
      },
      "outputs": [],
      "source": [
        "# Build a graph with edge between two items if they're similar\n",
        "G = nx.Graph()\n",
        "\n",
        "for index in idxs:\n",
        "    G.add_edge(\n",
        "        items[index[0]], items[index[1]],\n",
        "        weight=sims[index[0], index[1]]\n",
        "    )"
      ]
    },
    {
      "cell_type": "code",
      "execution_count": 15,
      "metadata": {
        "colab": {
          "base_uri": "https://localhost:8080/"
        },
        "id": "lvWvkHgkStTU",
        "outputId": "a4955c94-6122-4fbc-8d9f-060cf8dc7da0"
      },
      "outputs": [
        {
          "output_type": "execute_result",
          "data": {
            "text/plain": [
              "0.58811694"
            ]
          },
          "metadata": {},
          "execution_count": 15
        }
      ],
      "source": [
        "weight_values = nx.get_edge_attributes(G, 'weight')\n",
        "weight_values[('almond', 'pistachio')]"
      ]
    },
    {
      "cell_type": "code",
      "execution_count": 18,
      "metadata": {
        "id": "jnaDiSNUStTV"
      },
      "outputs": [],
      "source": [
        "# spring_layout in short, keeps everthing that are related are close together\n",
        "# and everything that are disimilar are pulled away\n",
        "\n",
        "positions = nx.spring_layout(G)\n",
        "nx.set_node_attributes(G, name='position', values=positions)\n"
      ]
    },
    {
      "cell_type": "code",
      "execution_count": 19,
      "metadata": {
        "id": "x2JPX_jZStTX"
      },
      "outputs": [],
      "source": [
        "searches = []"
      ]
    },
    {
      "cell_type": "code",
      "execution_count": 20,
      "metadata": {
        "id": "mMlSObmEStTY"
      },
      "outputs": [],
      "source": [
        "edge_x = []\n",
        "edge_y = []\n",
        "weights = []\n",
        "ave_x, ave_y = [], []\n",
        "for edge in G.edges():\n",
        "    x0, y0 = G.nodes[edge[0]]['position']\n",
        "    x1, y1 = G.nodes[edge[1]]['position']\n",
        "    edge_x.append(x0)\n",
        "    edge_x.append(x1)\n",
        "    edge_x.append(None)\n",
        "    edge_y.append(y0)\n",
        "    edge_y.append(y1)\n",
        "    edge_y.append(None)\n",
        "    ave_x.append(np.mean([x0, x1]))\n",
        "    ave_y.append(np.mean([y0, y1]))\n",
        "    weights.append(f'{edge[0]}, {edge[1]}: {weight_values[(edge[0], edge[1])]}')\n",
        "\n",
        "edge_trace = go.Scatter(\n",
        "    x=edge_x, y=edge_y,\n",
        "    opacity=0.7,\n",
        "    line=dict(width=2, color='White'),\n",
        "    hoverinfo='text',\n",
        "    mode='lines')\n",
        "\n",
        "edge_trace.text = weights\n",
        "\n",
        "\n",
        "node_x = []\n",
        "node_y = []\n",
        "sizes = []\n",
        "for node in G.nodes():\n",
        "    x, y = G.nodes[node]['position']\n",
        "    node_x.append(x)\n",
        "    node_y.append(y)\n",
        "    if node in searches:\n",
        "        sizes.append(50)\n",
        "    else:\n",
        "        sizes.append(15)\n",
        "\n",
        "node_trace = go.Scatter(\n",
        "    x=node_x, y=node_y,\n",
        "    mode='markers',\n",
        "    hoverinfo='text',\n",
        "    marker=dict(\n",
        "        showscale=True,\n",
        "        line=dict(color='White'),\n",
        "        # colorscale options\n",
        "        #'Greys' | 'YlGnBu' | 'Greens' | 'YlOrRd' | 'Bluered' | 'RdBu' |\n",
        "        #'Reds' | 'Blues' | 'Picnic' | 'Rainbow' | 'Portland' | 'Jet' |\n",
        "        #'Hot' | 'Blackbody' | 'Earth' | 'Electric' | 'Viridis' |\n",
        "        colorscale='Picnic',\n",
        "        reversescale=False,\n",
        "        color=[],\n",
        "        opacity=0.9,\n",
        "        size=sizes,\n",
        "        colorbar=dict(\n",
        "            thickness=15,\n",
        "            title='Node Connections',\n",
        "            xanchor='left',\n",
        "            titleside='right'\n",
        "        ),\n",
        "        line_width=2\n",
        "    )\n",
        ")\n",
        "\n",
        "invisible_similarity_trace = go.Scatter(\n",
        "    x=ave_x, y=ave_y,\n",
        "    mode='markers',\n",
        "    hoverinfo='text',\n",
        "    marker=dict(\n",
        "        color=[],\n",
        "        opacity=0,\n",
        "    )\n",
        ")\n",
        "\n",
        "invisible_similarity_trace.text=weights"
      ]
    },
    {
      "cell_type": "code",
      "execution_count": 21,
      "metadata": {
        "id": "yyZUYS2QStTZ"
      },
      "outputs": [],
      "source": [
        "node_adjacencies = []\n",
        "node_text = []\n",
        "for node, adjacencies in enumerate(G.adjacency()):\n",
        "    node_adjacencies.append(len(adjacencies[1]))\n",
        "    node_text.append(adjacencies[0])\n",
        "\n",
        "node_trace.marker.color = node_adjacencies\n",
        "node_trace.text = node_text"
      ]
    },
    {
      "cell_type": "code",
      "execution_count": 25,
      "metadata": {
        "colab": {
          "base_uri": "https://localhost:8080/",
          "height": 35
        },
        "id": "bnQjGG3lStTa",
        "outputId": "7b0dbc9e-ffb1-4b8c-a745-50c1037e430a"
      },
      "outputs": [
        {
          "output_type": "execute_result",
          "data": {
            "application/vnd.google.colaboratory.intrinsic+json": {
              "type": "string"
            },
            "text/plain": [
              "'temp-plot.html'"
            ]
          },
          "metadata": {},
          "execution_count": 25
        }
      ],
      "source": [
        "fig = go.Figure(\n",
        "    data=[edge_trace, node_trace, invisible_similarity_trace],\n",
        "    layout=go.Layout(\n",
        "        title='Knowledge Graph of Recipe Ingredients',\n",
        "        template='plotly_white',\n",
        "        titlefont_size=20,\n",
        "        showlegend=False,\n",
        "        hovermode='closest',\n",
        "        margin=dict(b=20,l=5,r=5,t=40),\n",
        "        annotations=[\n",
        "            dict(\n",
        "                text=\"Created By: <a href='https://github.com/gborn'> Glad Nayak</a>\",\n",
        "                showarrow=False,\n",
        "                xref=\"paper\", yref=\"paper\",\n",
        "                x=0.005, y=-0.002 ) \n",
        "        ],\n",
        "        xaxis=dict(showgrid=False, zeroline=False, showticklabels=False),\n",
        "        yaxis=dict(showgrid=False, zeroline=False, showticklabels=False)\n",
        "    )\n",
        ")\n",
        "\n",
        "plot(fig)"
      ]
    },
    {
      "cell_type": "markdown",
      "source": [
        "## Deployment"
      ],
      "metadata": {
        "id": "hmBQ95tocLsK"
      }
    },
    {
      "cell_type": "code",
      "source": [
        "%%writefile src/build_graph.py\n",
        "from sklearn.metrics.pairwise import cosine_similarity\n",
        "import plotly.graph_objects as go\n",
        "import networkx as nx\n",
        "import numpy as np\n",
        "\n",
        "def build_similarity(vectors):\n",
        "    \"\"\"\n",
        "    builds similarity matrix of vectors using cosine similarity\n",
        "    @input: vector embeddings of items\n",
        "    @returns similarity matrix\n",
        "\n",
        "    \"\"\"\n",
        "    sims = cosine_similarity(vectors, vectors)\n",
        "    for i in range(len(vectors)):\n",
        "        for j in range(len(vectors)):\n",
        "            if i <= j :\n",
        "                sims[i, j] = False\n",
        "\n",
        "    return sims\n",
        "\n",
        "\n",
        "def build_graph(sims, items, searches=[]):\n",
        "    \"\"\"\n",
        "    builds knowledge graph of ingredients\n",
        "    @input sims: similarity matrix\n",
        "    \"\"\"\n",
        "\n",
        "    idxs = np.argwhere(sims > 0.55)\n",
        "\n",
        "    # Build a graph with edge between two items if they're similar\n",
        "    G = nx.Graph()\n",
        "\n",
        "    for index in idxs:\n",
        "        G.add_edge(\n",
        "            items[index[0]], items[index[1]],\n",
        "            weight=sims[index[0], index[1]]\n",
        "        )\n",
        "\n",
        "    # spring_layout in short, keeps everthing that are related are close together\n",
        "    # and everything that are disimilar are pulled away\n",
        "    positions = nx.spring_layout(G)\n",
        "    nx.set_node_attributes(G, name='position', values=positions)\n",
        "    weight_values = nx.get_edge_attributes(G, 'weight')\n",
        "    \n",
        "    edge_x = []\n",
        "    edge_y = []\n",
        "    weights = []\n",
        "    ave_x, ave_y = [], []\n",
        "    for edge in G.edges():\n",
        "        x0, y0 = G.nodes[edge[0]]['position']\n",
        "        x1, y1 = G.nodes[edge[1]]['position']\n",
        "        edge_x.append(x0)\n",
        "        edge_x.append(x1)\n",
        "        edge_x.append(None)\n",
        "        edge_y.append(y0)\n",
        "        edge_y.append(y1)\n",
        "        edge_y.append(None)\n",
        "        ave_x.append(np.mean([x0, x1]))\n",
        "        ave_y.append(np.mean([y0, y1]))\n",
        "        weights.append(f'{edge[0]}, {edge[1]}: {weight_values[(edge[0], edge[1])]}')\n",
        "\n",
        "    edge_trace = go.Scatter(\n",
        "        x=edge_x, y=edge_y,\n",
        "        opacity=0.7,\n",
        "        line=dict(width=2, color='White'),\n",
        "        hoverinfo='text',\n",
        "        mode='lines')\n",
        "\n",
        "    edge_trace.text = weights\n",
        "\n",
        "\n",
        "    node_x = []\n",
        "    node_y = []\n",
        "    sizes = []\n",
        "    for node in G.nodes():\n",
        "        x, y = G.nodes[node]['position']\n",
        "        node_x.append(x)\n",
        "        node_y.append(y)\n",
        "        if node in searches:\n",
        "            sizes.append(50)\n",
        "        else:\n",
        "            sizes.append(15)\n",
        "\n",
        "    node_trace = go.Scatter(\n",
        "        x=node_x, y=node_y,\n",
        "        mode='markers',\n",
        "        hoverinfo='text',\n",
        "        marker=dict(\n",
        "            showscale=True,\n",
        "            line=dict(color='White'),\n",
        "            # colorscale options\n",
        "            #'Greys' | 'YlGnBu' | 'Greens' | 'YlOrRd' | 'Bluered' | 'RdBu' |\n",
        "            #'Reds' | 'Blues' | 'Picnic' | 'Rainbow' | 'Portland' | 'Jet' |\n",
        "            #'Hot' | 'Blackbody' | 'Earth' | 'Electric' | 'Viridis' |\n",
        "            colorscale='Picnic',\n",
        "            reversescale=False,\n",
        "            color=[],\n",
        "            opacity=0.9,\n",
        "            size=sizes,\n",
        "            colorbar=dict(\n",
        "                thickness=15,\n",
        "                title='Node Connections',\n",
        "                xanchor='left',\n",
        "                titleside='right'\n",
        "            ),\n",
        "            line_width=2\n",
        "        )\n",
        "    )\n",
        "\n",
        "    invisible_similarity_trace = go.Scatter(\n",
        "        x=ave_x, y=ave_y,\n",
        "        mode='markers',\n",
        "        hoverinfo='text',\n",
        "        marker=dict(\n",
        "            color=[],\n",
        "            opacity=0,\n",
        "        )\n",
        "    )\n",
        "\n",
        "    invisible_similarity_trace.text=weights\n",
        "\n",
        "    node_adjacencies = []\n",
        "    node_text = []\n",
        "    for node, adjacencies in enumerate(G.adjacency()):\n",
        "        node_adjacencies.append(len(adjacencies[1]))\n",
        "        node_text.append(adjacencies[0])\n",
        "\n",
        "    node_trace.marker.color = node_adjacencies\n",
        "    node_trace.text = node_text\n",
        "\n",
        "    fig = go.Figure(\n",
        "    data=[edge_trace, node_trace, invisible_similarity_trace],\n",
        "    layout=go.Layout(\n",
        "        title='Knowledge Graph of Recipe Ingredients',\n",
        "        template='plotly_white',\n",
        "        titlefont_size=20,\n",
        "        showlegend=False,\n",
        "        hovermode='closest',\n",
        "        margin=dict(b=20,l=5,r=5,t=40),\n",
        "        annotations=[\n",
        "            dict(\n",
        "                text=\"Created By: <a href='https://github.com/gborn'> Glad Nayak</a>\",\n",
        "                showarrow=False,\n",
        "                xref=\"paper\", yref=\"paper\",\n",
        "                x=0.005, y=-0.002 ) \n",
        "        ],\n",
        "        xaxis=dict(showgrid=False, zeroline=False, showticklabels=False),\n",
        "        yaxis=dict(showgrid=False, zeroline=False, showticklabels=False)\n",
        "    ))\n",
        "\n",
        "    return fig\n",
        "\n"
      ],
      "metadata": {
        "colab": {
          "base_uri": "https://localhost:8080/"
        },
        "id": "VaWw3W9Xacrh",
        "outputId": "bf48b9ac-2f1e-4c4c-bf0e-c652ecc9a533"
      },
      "execution_count": 47,
      "outputs": [
        {
          "output_type": "stream",
          "name": "stdout",
          "text": [
            "Overwriting src/build_graph.py\n"
          ]
        }
      ]
    },
    {
      "cell_type": "code",
      "source": [
        "%%writefile app.py\n",
        "from src.build_graph import build_similarity, build_graph\n",
        "import streamlit as st\n",
        "import numpy as np\n",
        "import os\n",
        "\n",
        "\n",
        "PAGE_CONFIG = {\"page_title\":\"App by Glad Nayak\",\"page_icon\":\":smiley:\",\"layout\":\"wide\"}\n",
        "st.set_page_config(**PAGE_CONFIG)\n",
        "\n",
        "def main():\n",
        "    \"\"\"\n",
        "    Render UI on web app, build and display knowledge graph\n",
        "    \"\"\"\n",
        "\n",
        "    st.title('Knowledge Graph of Food Ingredients')\n",
        "    # load items, and their vector embeddings\n",
        "    items = np.loadtxt('data/items.txt', dtype=str)\n",
        "    vectors = np.load('data/vectors.npy')\n",
        "\n",
        "    # select ingredients\n",
        "    selected_items = st.sidebar.multiselect('Select Ingredients', options=list(items))\n",
        "    if selected_items:\n",
        "        sims = build_similarity(vectors)\n",
        "        fig = build_graph(sims, items, selected_items)   \n",
        "        fig.update_layout(title_text=\"title\", margin={\"r\": 0, \"t\": 0, \"l\": 0, \"b\": 0}, height=800)\n",
        "        st.plotly_chart(fig, use_container_width=True, )\n",
        "\n",
        "    else:\n",
        "        sims = build_similarity(vectors)\n",
        "        fig = build_graph(sims, items,  '')\n",
        "        fig.update_layout(title_text=\"title\", margin={\"r\": 0, \"t\": 0, \"l\": 0, \"b\": 0}, height=800)\n",
        "        st.plotly_chart(fig, use_container_width=True, )\n",
        "\n",
        "    \n",
        "    # select vector weights\n",
        "    selected_weights = st.sidebar.radio('Choose weights', options=['Word2Vec', 'FastText'])\n",
        "    if selected_weights:\n",
        "        vectors = np.load('data/ft_vectors.npy')\n",
        "\n",
        "    \n",
        "    st.sidebar.markdown(\"## How it works? :tomato:\")\n",
        "    st.sidebar.write(\n",
        "        \"Search ingredients and select weights to see similar ingredients, or explore existing clusters of food ingredients.\"\n",
        "    )\n",
        "\n",
        "if __name__ == '__main__':\n",
        "\tmain()"
      ],
      "metadata": {
        "colab": {
          "base_uri": "https://localhost:8080/"
        },
        "id": "vAY-TuTPfAll",
        "outputId": "8a0f6bb9-f659-45eb-9ca9-152ddc4a4b2a"
      },
      "execution_count": 61,
      "outputs": [
        {
          "output_type": "stream",
          "name": "stdout",
          "text": [
            "Overwriting app.py\n"
          ]
        }
      ]
    },
    {
      "cell_type": "markdown",
      "source": [
        "## Local Deployment for Testing"
      ],
      "metadata": {
        "id": "Am8DUKiPtnjL"
      }
    },
    {
      "cell_type": "code",
      "source": [
        "!streamlit run app.py --server.enableCORS=false &>/dev/null&\n",
        "\n",
        "!lt --Bypass-Tunnel-Reminder --subdomain 'bornapp' --port 8501 &>/dev/null&"
      ],
      "metadata": {
        "id": "tIvKDTYxiSsR"
      },
      "execution_count": 41,
      "outputs": []
    },
    {
      "cell_type": "code",
      "source": [
        "# kill app and clean up memory\n",
        "st_id = !pgrep streamlit\n",
        "!kill {st_id[0]}\n",
        "\n",
        "lt_id = !pgrep lt\n",
        "!kill {lt_id[0]}"
      ],
      "metadata": {
        "colab": {
          "base_uri": "https://localhost:8080/"
        },
        "id": "HYfo39L-jILu",
        "outputId": "1b219b5c-9a4a-48f4-eaef-d56810ebc1d9"
      },
      "execution_count": 35,
      "outputs": [
        {
          "output_type": "stream",
          "name": "stdout",
          "text": [
            "/bin/bash: line 0: kill: {st_id[0]}: arguments must be process or job IDs\n"
          ]
        }
      ]
    },
    {
      "cell_type": "code",
      "source": [
        "!pip install streamlit > /dev/null\n",
        "!npm install -g localtunnel > /dev/null"
      ],
      "metadata": {
        "colab": {
          "base_uri": "https://localhost:8080/"
        },
        "id": "RUDNeb51jfbw",
        "outputId": "65930e79-9259-4f5f-c869-fae49f6fce3c"
      },
      "execution_count": 37,
      "outputs": [
        {
          "output_type": "stream",
          "name": "stdout",
          "text": [
            "\u001b[K\u001b[?25h"
          ]
        }
      ]
    },
    {
      "cell_type": "code",
      "source": [
        "#  make requirements.txt file\n",
        "#!pip install pipreqs\n",
        "!pipreqs --force ."
      ],
      "metadata": {
        "colab": {
          "base_uri": "https://localhost:8080/"
        },
        "id": "ONhDmDlU4tx8",
        "outputId": "71d06a7e-8143-44db-e514-8c98bab124e6"
      },
      "execution_count": 66,
      "outputs": [
        {
          "output_type": "stream",
          "name": "stdout",
          "text": [
            "INFO: Successfully saved requirements file in ./requirements.txt\n"
          ]
        }
      ]
    },
    {
      "cell_type": "code",
      "source": [
        "%%writefile setup.py\n",
        "\n",
        "mkdir -p ~/.streamlit/\n",
        "\n",
        "echo \"\\\n",
        "[general]\\n\\\n",
        "email = \\\"gladnayak25@gmail.com\\\"\\n\\\n",
        "\" > ~/.streamlit/credentials.toml\n",
        "\n",
        "echo \"\\\n",
        "[server]\\n\\\n",
        "headless = true\\n\\\n",
        "enableCORS=false\\n\\\n",
        "port = $PORT\\n\\\n",
        "\" > ~/.streamlit/config.toml"
      ],
      "metadata": {
        "colab": {
          "base_uri": "https://localhost:8080/"
        },
        "id": "qlU5D_wbjlM7",
        "outputId": "8e962dbb-5edf-4b17-a636-74fa039fecae"
      },
      "execution_count": 62,
      "outputs": [
        {
          "output_type": "stream",
          "name": "stdout",
          "text": [
            "Writing setup.py\n"
          ]
        }
      ]
    },
    {
      "cell_type": "code",
      "source": [
        "%%writefile Procfile\n",
        "\n",
        "web: sh setup.sh && streamlit run app.py"
      ],
      "metadata": {
        "colab": {
          "base_uri": "https://localhost:8080/"
        },
        "id": "a3Ukzzgd4rPI",
        "outputId": "06edf857-8943-42db-c450-dab3405b9325"
      },
      "execution_count": 63,
      "outputs": [
        {
          "output_type": "stream",
          "name": "stdout",
          "text": [
            "Writing Procfile\n"
          ]
        }
      ]
    }
  ],
  "metadata": {
    "kernelspec": {
      "display_name": "Python 3",
      "language": "python",
      "name": "python3"
    },
    "language_info": {
      "codemirror_mode": {
        "name": "ipython",
        "version": 3
      },
      "file_extension": ".py",
      "mimetype": "text/x-python",
      "name": "python",
      "nbconvert_exporter": "python",
      "pygments_lexer": "ipython3",
      "version": "3.7.4"
    },
    "colab": {
      "name": "4_InteractiveVisualization and Deployment.ipynb",
      "provenance": []
    }
  },
  "nbformat": 4,
  "nbformat_minor": 0
}