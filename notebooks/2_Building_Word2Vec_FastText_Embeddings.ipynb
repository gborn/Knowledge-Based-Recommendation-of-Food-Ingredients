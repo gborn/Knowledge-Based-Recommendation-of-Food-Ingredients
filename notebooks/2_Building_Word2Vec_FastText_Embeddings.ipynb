{
  "cells": [
    {
      "cell_type": "markdown",
      "metadata": {
        "id": "oPzq6r-Xm3eI"
      },
      "source": [
        "# Knowledge Based Recommendation System of Ingredients\n",
        "\n",
        "## Notebook 2: Word Embeddings using Word2Vec, FastText\n",
        "### Project Breakdown\n",
        "    1  Exploratory Data Analysis and Preprocessing\n",
        "    2: Build Word Embeddings using Word2Vec, FastText\n",
        "    3: Recommend Recipes based on ingredients\n",
        "    4: Build and Visualize Interactive Knowledge Graph of Ingredients\n",
        "\n",
        "\n",
        "## Word2Vec with Gensim\n",
        "Word2Vec original papers can be found [here](https://arxiv.org/pdf/1301.3781.pdf) and [here](https://arxiv.org/pdf/1310.4546.pdf), while the documentation for the Gensim model can be found [here](https://radimrehurek.com/gensim/models/word2vec.html).\n",
        "\n",
        "![Word2Vec architecture](https://www.researchgate.net/profile/Giuseppe-Futia/publication/328373466/figure/fig3/AS:701226521997316@1544196839385/Architecture-of-Word2Vec-models-CBOW-and-Skip-Gram.ppm)"
      ]
    },
    {
      "cell_type": "code",
      "execution_count": 1,
      "metadata": {
        "id": "e6CQzE5Am3eP"
      },
      "outputs": [],
      "source": [
        "from gensim.models.word2vec import Word2Vec\n",
        "from gensim.models import KeyedVectors\n",
        "from tqdm import tqdm\n",
        "import pandas as pd\n",
        "import numpy as np\n",
        "import pickle"
      ]
    },
    {
      "cell_type": "code",
      "execution_count": 2,
      "metadata": {
        "colab": {
          "base_uri": "https://localhost:8080/"
        },
        "id": "s9Bk9bXOm3eS",
        "outputId": "15fc5e4d-d6a9-4f50-daeb-fc70c8f6abbe"
      },
      "outputs": [
        {
          "output_type": "stream",
          "name": "stdout",
          "text": [
            "Downloading...\n",
            "From: https://drive.google.com/uc?id=1-IzMRZLYH4OZR8_Za0ZM-6vt2jGIb0dz\n",
            "To: /content/data/train_data.pkl\n",
            "100% 246M/246M [00:01<00:00, 197MB/s]\n"
          ]
        }
      ],
      "source": [
        "# read train_data.pkl file from data folder\n",
        "\n",
        "!mkdir -p data\n",
        "!gdown --id 1-IzMRZLYH4OZR8_Za0ZM-6vt2jGIb0dz  -O data/train_data.pkl\n",
        "\n",
        "with open('data/train_data.pkl', 'rb') as f:\n",
        "    train_data = pickle.load(f)"
      ]
    },
    {
      "cell_type": "code",
      "execution_count": 3,
      "metadata": {
        "colab": {
          "base_uri": "https://localhost:8080/"
        },
        "id": "tWYvvodmm3eT",
        "outputId": "3d2a931a-280f-4f14-de93-598f9fcabb4e"
      },
      "outputs": [
        {
          "output_type": "execute_result",
          "data": {
            "text/plain": [
              "[['place',\n",
              "  'chicken',\n",
              "  'butter',\n",
              "  'soup',\n",
              "  'onion',\n",
              "  'slow',\n",
              "  'cooker',\n",
              "  'water',\n",
              "  'covercover',\n",
              "  'cook',\n",
              "  'hour',\n",
              "  'high',\n",
              "  'minute',\n",
              "  'serving',\n",
              "  'place',\n",
              "  'torn',\n",
              "  'biscuit',\n",
              "  'dough',\n",
              "  'slow',\n",
              "  'cooker',\n",
              "  'cook',\n",
              "  'dough',\n",
              "  'longer',\n",
              "  'raw',\n",
              "  'center']]"
            ]
          },
          "metadata": {},
          "execution_count": 3
        }
      ],
      "source": [
        "train_data[:1]"
      ]
    },
    {
      "cell_type": "code",
      "execution_count": 4,
      "metadata": {
        "id": "Io466-YCm3eT"
      },
      "outputs": [],
      "source": [
        "wv_model = Word2Vec(size=300)\n",
        "wv_model.build_vocab(train_data)"
      ]
    },
    {
      "cell_type": "code",
      "execution_count": 6,
      "metadata": {
        "colab": {
          "base_uri": "https://localhost:8080/"
        },
        "id": "ShSr1u8Tm3eU",
        "outputId": "f6851337-e2f2-4d9a-c603-b6e32480c320"
      },
      "outputs": [
        {
          "output_type": "stream",
          "name": "stdout",
          "text": [
            "CPU times: user 36min 20s, sys: 7.23 s, total: 36min 28s\n",
            "Wall time: 12min 27s\n"
          ]
        },
        {
          "output_type": "execute_result",
          "data": {
            "text/plain": [
              "(647573309, 784110650)"
            ]
          },
          "metadata": {},
          "execution_count": 6
        }
      ],
      "source": [
        "%%time\n",
        "wv_model.train(\n",
        "    train_data, \n",
        "    total_examples=wv_model.corpus_count,\n",
        "    epochs=50,\n",
        "    compute_loss=True\n",
        ")"
      ]
    },
    {
      "cell_type": "code",
      "execution_count": 7,
      "metadata": {
        "colab": {
          "base_uri": "https://localhost:8080/"
        },
        "id": "grPUEvHNm3eV",
        "outputId": "1dabaca8-82e3-4d5e-c52f-a017c4251890"
      },
      "outputs": [
        {
          "output_type": "execute_result",
          "data": {
            "text/plain": [
              "[('lemon', 0.772682785987854),\n",
              " ('tangerine', 0.7122073173522949),\n",
              " ('lime', 0.6782360672950745),\n",
              " ('citrus', 0.6447024941444397),\n",
              " ('grapefruit', 0.633366584777832),\n",
              " ('clementine', 0.5394362807273865),\n",
              " ('pineapple', 0.4848083257675171),\n",
              " ('pomegranate', 0.4140113592147827),\n",
              " ('satsuma', 0.3966277241706848),\n",
              " ('cranberry', 0.38645362854003906)]"
            ]
          },
          "metadata": {},
          "execution_count": 7
        }
      ],
      "source": [
        "wv_model.wv.most_similar(['orange'], topn=10)"
      ]
    },
    {
      "cell_type": "code",
      "source": [
        "!mkdir -p models\n",
        "wv_model.save('models/word2vec.model')"
      ],
      "metadata": {
        "id": "4_hqvSmK7qFx"
      },
      "execution_count": 8,
      "outputs": []
    },
    {
      "cell_type": "markdown",
      "source": [
        "## Facebook AI's FastText Model\n",
        "\n",
        "“fastText is a library for efficient learning of word representations and sentence classification,​​ purposed by Facebook​​ AI Research Center. It’s a​​ new approach based on the Miklov’s CBOW and skip-gram model, where each word is represented as a bag of character n-grams. A vector representation is associated with each character n-gram; words being represented as the sum of these representations. It is a faster method, allowing to train models on large corpora quickly and allows researchers to compute word representations for words that did not appear in the training data.”​​ \n",
        "\n",
        "Paper title:​​ Enriching Word Vectors with Sub-word Information"
      ],
      "metadata": {
        "id": "ov55HX9-pmgL"
      }
    },
    {
      "cell_type": "code",
      "execution_count": 11,
      "metadata": {
        "colab": {
          "base_uri": "https://localhost:8080/"
        },
        "id": "BafmsSzVm3eW",
        "outputId": "a77f90d7-3fdb-4d3b-c3a7-32a35885ef89"
      },
      "outputs": [
        {
          "output_type": "stream",
          "name": "stdout",
          "text": [
            "Cloning into 'fastText'...\n",
            "remote: Enumerating objects: 3854, done.\u001b[K\n",
            "remote: Total 3854 (delta 0), reused 0 (delta 0), pack-reused 3854\u001b[K\n",
            "Receiving objects: 100% (3854/3854), 8.22 MiB | 14.23 MiB/s, done.\n",
            "Resolving deltas: 100% (2417/2417), done.\n"
          ]
        }
      ],
      "source": [
        "# source: https://github.com/facebookresearch/fastText#building-fasttext-for-python\n",
        "\n",
        "!git clone https://github.com/facebookresearch/fastText.git "
      ]
    },
    {
      "cell_type": "code",
      "execution_count": 12,
      "metadata": {
        "colab": {
          "base_uri": "https://localhost:8080/"
        },
        "id": "wi055lrAm3eX",
        "outputId": "45689e12-8930-420c-a40e-235404c565c2"
      },
      "outputs": [
        {
          "output_type": "stream",
          "name": "stdout",
          "text": [
            "/content/fastText\n",
            "c++ -pthread -std=c++11 -march=native -O3 -funroll-loops -DNDEBUG -c src/args.cc\n",
            "c++ -pthread -std=c++11 -march=native -O3 -funroll-loops -DNDEBUG -c src/autotune.cc\n",
            "c++ -pthread -std=c++11 -march=native -O3 -funroll-loops -DNDEBUG -c src/matrix.cc\n",
            "c++ -pthread -std=c++11 -march=native -O3 -funroll-loops -DNDEBUG -c src/dictionary.cc\n",
            "c++ -pthread -std=c++11 -march=native -O3 -funroll-loops -DNDEBUG -c src/loss.cc\n",
            "c++ -pthread -std=c++11 -march=native -O3 -funroll-loops -DNDEBUG -c src/productquantizer.cc\n",
            "c++ -pthread -std=c++11 -march=native -O3 -funroll-loops -DNDEBUG -c src/densematrix.cc\n",
            "c++ -pthread -std=c++11 -march=native -O3 -funroll-loops -DNDEBUG -c src/quantmatrix.cc\n",
            "c++ -pthread -std=c++11 -march=native -O3 -funroll-loops -DNDEBUG -c src/vector.cc\n",
            "c++ -pthread -std=c++11 -march=native -O3 -funroll-loops -DNDEBUG -c src/model.cc\n",
            "c++ -pthread -std=c++11 -march=native -O3 -funroll-loops -DNDEBUG -c src/utils.cc\n",
            "c++ -pthread -std=c++11 -march=native -O3 -funroll-loops -DNDEBUG -c src/meter.cc\n",
            "c++ -pthread -std=c++11 -march=native -O3 -funroll-loops -DNDEBUG -c src/fasttext.cc\n",
            "c++ -pthread -std=c++11 -march=native -O3 -funroll-loops -DNDEBUG args.o autotune.o matrix.o dictionary.o loss.o productquantizer.o densematrix.o quantmatrix.o vector.o model.o utils.o meter.o fasttext.o src/main.cc -o fasttext\n",
            "Processing /content/fastText\n",
            "\u001b[33m  DEPRECATION: A future pip version will change local packages to be built in-place without first copying to a temporary directory. We recommend you use --use-feature=in-tree-build to test your packages with this new behavior before it becomes the default.\n",
            "   pip 21.3 will remove support for this functionality. You can find discussion regarding this at https://github.com/pypa/pip/issues/7555.\u001b[0m\n",
            "Collecting pybind11>=2.2\n",
            "  Using cached pybind11-2.9.0-py2.py3-none-any.whl (210 kB)\n",
            "Requirement already satisfied: setuptools>=0.7.0 in /usr/local/lib/python3.7/dist-packages (from fasttext==0.9.2) (57.4.0)\n",
            "Requirement already satisfied: numpy in /usr/local/lib/python3.7/dist-packages (from fasttext==0.9.2) (1.19.5)\n",
            "Building wheels for collected packages: fasttext\n",
            "  Building wheel for fasttext (setup.py) ... \u001b[?25l\u001b[?25hdone\n",
            "  Created wheel for fasttext: filename=fasttext-0.9.2-cp37-cp37m-linux_x86_64.whl size=3122051 sha256=8bbfa068fce3724ebe58e50bc794982b80a6401f7bcdf3aad897d8291bcf90e8\n",
            "  Stored in directory: /tmp/pip-ephem-wheel-cache-02gxa1cb/wheels/22/04/6e/b3aba25c1a5845898b5871a0df37c2126cb0cc9326ad0c08e7\n",
            "Successfully built fasttext\n",
            "Installing collected packages: pybind11, fasttext\n",
            "Successfully installed fasttext-0.9.2 pybind11-2.9.0\n"
          ]
        }
      ],
      "source": [
        "# compile libraries and install required python files\n",
        "%cd fastText\n",
        "!make\n",
        "!pip install ."
      ]
    },
    {
      "cell_type": "code",
      "source": [
        "# change dir back to parent folder\n",
        "%cd ..\n",
        "\n",
        "# building a text file with train_data\n",
        "with open('data/train_data.txt', 'a') as f:\n",
        "    text = '\\n'.join([' '.join(data) for data in train_data])\n",
        "    f.write(text)\n",
        "\n",
        "!head -5 data/train_data.txt"
      ],
      "metadata": {
        "colab": {
          "base_uri": "https://localhost:8080/"
        },
        "id": "34i2EhH1vaFQ",
        "outputId": "fbac29c6-2a38-4aa0-c3a0-09f496f3b57b"
      },
      "execution_count": 13,
      "outputs": [
        {
          "output_type": "stream",
          "name": "stdout",
          "text": [
            "/content\n",
            "place chicken butter soup onion slow cooker water covercover cook hour high minute serving place torn biscuit dough slow cooker cook dough longer raw center\n",
            "slow cooker mix cream mushroom soup dry onion soup mix water place pot roast slow cooker coat soup mixturecook high setting hour low setting hour\n",
            "preheat oven degree degree lightly grease inch loaf panpress brown sugar prepared loaf pan spread ketchup sugarin mixing bowl mix thoroughly remaining ingredient shape loaf place ketchupbake preheated oven hour juice clear\n",
            "preheat oven degree degree ccream butter white sugar brown sugar smooth beat egg time stir vanilla dissolve baking soda hot water add batter salt stir flour chocolate chip nut drop large spoonful ungreased pansbake minute preheated oven edge nicely browned\n",
            "preheat oven degree line quart casserole dish reynolds wrapr pan lining paper parchment need grease dishcook pasta large saucepan according package direction adding broccoli minute cooking drain return saucepan set asidecook onion garlic hot butter large skillet minute tender stir flour salt black pepper add milk cook stir medium heat slightly thickened bubbly add cheddar cheese cream cheese stirring melted pour cheese sauce pasta broccoli stir combinedmelt remaining butter mix bread crumb small bowl transfer pasta mixture prepared casserole dish buttery bread crumbsbake uncovered minute bubbly internal temperature degree let stand minute serving\n"
          ]
        }
      ]
    },
    {
      "cell_type": "code",
      "source": [
        "# train FastText model with train_data.txt\n",
        "!mkdir -p model\n",
        "!fastText/fasttext skipgram -dim 300  -ws 5 -epoch 100 -input data/train_data.txt -output models/ft_model"
      ],
      "metadata": {
        "colab": {
          "base_uri": "https://localhost:8080/"
        },
        "id": "xN7pCG4htjs_",
        "outputId": "1d4784c3-7899-45ce-920c-561ca2194c3e"
      },
      "execution_count": 14,
      "outputs": [
        {
          "output_type": "stream",
          "name": "stdout",
          "text": [
            "Read 15M words\n",
            "Number of words:  21795\n",
            "Number of labels: 0\n",
            "tcmalloc: large alloc 2426159104 bytes == 0x55ccd6bd6000 @  0x7feb7d66e887 0x55cccd23dfed 0x55cccd24c71e 0x55cccd2544fc 0x55cccd25bffc 0x55cccd211887 0x7feb7c70bbf7 0x55cccd211b4a\n",
            "Progress: 100.0% words/sec/thread:   18165 lr:  0.000000 avg.loss:  0.439929 ETA:   0h 0m 0s\n"
          ]
        }
      ]
    },
    {
      "cell_type": "code",
      "source": [
        "# Load word embeddings from FastText\n",
        "ft_model = KeyedVectors.load_word2vec_format('models/ft_model.vec', binary=False)\n",
        "print(ft_model)"
      ],
      "metadata": {
        "colab": {
          "base_uri": "https://localhost:8080/"
        },
        "id": "X8WpMsPvx3_T",
        "outputId": "e288c6c4-9db2-438f-cbc2-4c38b6f9623f"
      },
      "execution_count": 15,
      "outputs": [
        {
          "output_type": "stream",
          "name": "stdout",
          "text": [
            "<gensim.models.keyedvectors.Word2VecKeyedVectors object at 0x7f9fb0c4b250>\n"
          ]
        }
      ]
    },
    {
      "cell_type": "code",
      "source": [
        "ft_model.most_similar(['burger', 'cheese'])"
      ],
      "metadata": {
        "colab": {
          "base_uri": "https://localhost:8080/"
        },
        "id": "JZ47agcY0TTb",
        "outputId": "cd074ca3-c19e-4ca0-dba1-4c3f5808e6b0"
      },
      "execution_count": 16,
      "outputs": [
        {
          "output_type": "execute_result",
          "data": {
            "text/plain": [
              "[('cheddar', 0.5891498327255249),\n",
              " ('patty', 0.5787400007247925),\n",
              " ('hamburger', 0.5557500720024109),\n",
              " ('bun', 0.5498818755149841),\n",
              " ('mozzarella', 0.535476565361023),\n",
              " ('burgersplace', 0.5248774290084839),\n",
              " ('pattiesoil', 0.5143989324569702),\n",
              " ('pattiescook', 0.5099775791168213),\n",
              " ('pattieslightly', 0.5054371356964111),\n",
              " ('pattiesgrill', 0.5029280781745911)]"
            ]
          },
          "metadata": {},
          "execution_count": 16
        }
      ]
    },
    {
      "cell_type": "code",
      "source": [
        "ft_model.save('models/fasttext.vec')"
      ],
      "metadata": {
        "id": "6BywDt5un6di"
      },
      "execution_count": 20,
      "outputs": []
    },
    {
      "cell_type": "code",
      "source": [
        "from google.colab import drive\n",
        "drive.mount('/content/gdrive')\n",
        "!cp -r models/* /content/gdrive/MyDrive/colab/xlabs/"
      ],
      "metadata": {
        "colab": {
          "base_uri": "https://localhost:8080/"
        },
        "id": "bhhRcalTn7TP",
        "outputId": "f544ea86-0999-42aa-b92d-10aaab0437b2"
      },
      "execution_count": 22,
      "outputs": [
        {
          "output_type": "stream",
          "name": "stdout",
          "text": [
            "Drive already mounted at /content/gdrive; to attempt to forcibly remount, call drive.mount(\"/content/gdrive\", force_remount=True).\n"
          ]
        }
      ]
    },
    {
      "cell_type": "code",
      "source": [
        ""
      ],
      "metadata": {
        "id": "3bYJswQwoDro"
      },
      "execution_count": null,
      "outputs": []
    }
  ],
  "metadata": {
    "kernelspec": {
      "display_name": "Python 3",
      "language": "python",
      "name": "python3"
    },
    "language_info": {
      "codemirror_mode": {
        "name": "ipython",
        "version": 3
      },
      "file_extension": ".py",
      "mimetype": "text/x-python",
      "name": "python",
      "nbconvert_exporter": "python",
      "pygments_lexer": "ipython3",
      "version": "3.7.4"
    },
    "colab": {
      "name": "2_Building_Word2Vec_FastText_Embeddings.ipynb",
      "provenance": [],
      "machine_shape": "hm"
    },
    "accelerator": "GPU"
  },
  "nbformat": 4,
  "nbformat_minor": 0
}